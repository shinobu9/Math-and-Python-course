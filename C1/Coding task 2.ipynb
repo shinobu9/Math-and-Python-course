{
 "cells": [
  {
   "cell_type": "code",
   "execution_count": 2,
   "id": "96201750",
   "metadata": {},
   "outputs": [],
   "source": [
    "import numpy as np\n",
    "import pandas as pd\n",
    "import matplotlib.pyplot as plt\n",
    "from scipy import linalg, interpolate, optimize, spatial\n",
    "\n",
    "%matplotlib inline"
   ]
  },
  {
   "cell_type": "markdown",
   "id": "9b06c350",
   "metadata": {},
   "source": []
  },
  {
   "cell_type": "code",
   "execution_count": 54,
   "id": "15fdd45b",
   "metadata": {},
   "outputs": [],
   "source": [
    "import math as m\n",
    "f = lambda x: m.sin(x / 5) * m.exp(x / 10) + 5 * m.exp(-x / 2)"
   ]
  },
  {
   "cell_type": "code",
   "execution_count": 68,
   "id": "87a14c3a",
   "metadata": {},
   "outputs": [],
   "source": [
    "def f(x):\n",
    "    return m.sin(x / 5) * m.exp(x / 10) + 5 * m.exp(-x / 2)"
   ]
  },
  {
   "cell_type": "code",
   "execution_count": 69,
   "id": "a161e665",
   "metadata": {},
   "outputs": [],
   "source": [
    "x = np.arange(1,31,0.1)\n",
    "y = np.array(list(map(f, x)))"
   ]
  },
  {
   "cell_type": "code",
   "execution_count": 31,
   "id": "bcfc81f8",
   "metadata": {},
   "outputs": [
    {
     "data": {
      "image/png": "[encoded data removed]",
      "text/plain": [
       "<Figure size 432x288 with 1 Axes>"
      ]
     },
     "metadata": {
      "needs_background": "light"
     },
     "output_type": "display_data"
    }
   ],
   "source": [
    "tries = [2,30]\n",
    "for t in tries:\n",
    "    minima = optimize.minimize(f, t, method='BFGS').x\n",
    "    plt.scatter(minima, f(minima))\n",
    "\n",
    "plt.plot(x,y,label='original')\n",
    "plt.show()"
   ]
  },
  {
   "cell_type": "code",
   "execution_count": 33,
   "id": "65b8c481",
   "metadata": {},
   "outputs": [
    {
     "data": {
      "text/plain": [
       "'1.75 -11.9'"
      ]
     },
     "execution_count": 33,
     "metadata": {},
     "output_type": "execute_result"
    }
   ],
   "source": [
    "answer1 = round(optimize.minimize(f, 2, method='BFGS').fun, 2)\n",
    "answer2 = round(optimize.minimize(f, 30, method='BFGS').fun, 2)\n",
    "line = ' '.join(list(map(str, [answer1, answer2])))\n",
    "line"
   ]
  },
  {
   "cell_type": "code",
   "execution_count": 34,
   "id": "61e4331b",
   "metadata": {},
   "outputs": [],
   "source": [
    "file = open('submission1.txt', 'w', newline='')\n",
    "file.write(line)\n",
    "file.close()"
   ]
  },
  {
   "cell_type": "markdown",
   "id": "15a633f0",
   "metadata": {},
   "source": [
    "Задача 3. Минимизация негладкой функции\n",
    "\n",
    "Теперь рассмотрим функцию h(x) = int(f(x)) на том же отрезке [1, 30], т.е. теперь каждое значение f(x) приводится к типу int и функция принимает только целые значения.\n",
    "\n",
    "Такая функция будет негладкой и даже разрывной, а ее график будет иметь ступенчатый вид. Убедитесь в этом, построив график h(x) с помощью matplotlib.\n",
    "\n",
    "Попробуйте найти минимум функции h(x) с помощью BFGS, взяв в качестве начального приближения x=30. Получившееся значение функции – ваш первый ответ в этой задаче.\n",
    "\n",
    "Теперь попробуйте найти минимум h(x) на отрезке [1, 30] с помощью дифференциальной эволюции. Значение функции h(x) в точке минимума – это ваш второй ответ в этом задании. Запишите его через пробел после предыдущего.\n",
    "\n",
    "Обратите внимание на то, что полученные ответы различаются. Это ожидаемый результат, ведь BFGS использует градиент (в одномерном случае – производную) и явно не пригоден для минимизации рассмотренной нами разрывной функции. Попробуйте понять, почему минимум, найденный BFGS, именно такой (возможно в этом вам поможет выбор разных начальных приближений).\n",
    "Выполнив это задание, вы увидели на практике, чем поиск минимума функции отличается от глобальной оптимизации, и когда может быть полезно применить вместо градиентного метода оптимизации метод, не использующий градиент. Кроме того, вы попрактиковались в использовании библиотеки SciPy для решения оптимизационных задач, и теперь знаете, насколько это просто и удобно."
   ]
  },
  {
   "cell_type": "code",
   "execution_count": 62,
   "id": "a2b81d39",
   "metadata": {},
   "outputs": [],
   "source": [
    "line=str(round(optimize.differential_evolution(f, [(0,30)]).fun,2))"
   ]
  },
  {
   "cell_type": "code",
   "execution_count": 65,
   "id": "3c9e7f08",
   "metadata": {},
   "outputs": [],
   "source": [
    "with open('submission.txt', 'w', newline='') as file:\n",
    "    file.write(line)"
   ]
  },
  {
   "cell_type": "code",
   "execution_count": 74,
   "id": "d678e813",
   "metadata": {},
   "outputs": [],
   "source": [
    "def h(x):\n",
    "    return int(m.sin(x / 5) * m.exp(x / 10) + 5 * m.exp(-x / 2))"
   ]
  },
  {
   "cell_type": "code",
   "execution_count": 75,
   "id": "8a85c590",
   "metadata": {},
   "outputs": [
    {
     "data": {
      "image/png": "[encoded data removed]",
      "text/plain": [
       "<Figure size 432x288 with 1 Axes>"
      ]
     },
     "metadata": {
      "needs_background": "light"
     },
     "output_type": "display_data"
    }
   ],
   "source": [
    "yint = list(map(h, x))\n",
    "plt.plot(x,yint)\n",
    "plt.show()"
   ]
  },
  {
   "cell_type": "code",
   "execution_count": 79,
   "id": "ccabf8f8",
   "metadata": {},
   "outputs": [],
   "source": [
    "a=str(round(optimize.minimize(h, x0=30, method=\"BFGS\").fun,2))"
   ]
  },
  {
   "cell_type": "code",
   "execution_count": 80,
   "id": "04b8f52d",
   "metadata": {},
   "outputs": [],
   "source": [
    "b=str(round(optimize.differential_evolution(h, [(1,30)]).fun,2))"
   ]
  },
  {
   "cell_type": "code",
   "execution_count": 82,
   "id": "af4aa73f",
   "metadata": {},
   "outputs": [
    {
     "data": {
      "text/plain": [
       "'-5 -11.0'"
      ]
     },
     "execution_count": 82,
     "metadata": {},
     "output_type": "execute_result"
    }
   ],
   "source": [
    "line = ' '.join([a,b])\n",
    "line"
   ]
  },
  {
   "cell_type": "code",
   "execution_count": 83,
   "id": "c1e7d03a",
   "metadata": {},
   "outputs": [],
   "source": [
    "with open('submission.txt', 'w', newline='') as file:\n",
    "    file.write(line)"
   ]
  },
  {
   "cell_type": "code",
   "execution_count": null,
   "id": "97c0d234",
   "metadata": {},
   "outputs": [],
   "source": []
  }
 ],
 "metadata": {
  "kernelspec": {
   "display_name": "Python 3",
   "language": "python",
   "name": "python3"
  },
  "language_info": {
   "codemirror_mode": {
    "name": "ipython",
    "version": 3
   },
   "file_extension": ".py",
   "mimetype": "text/x-python",
   "name": "python",
   "nbconvert_exporter": "python",
   "pygments_lexer": "ipython3",
   "version": "3.8.8"
  }
 },
 "nbformat": 4,
 "nbformat_minor": 5
}
