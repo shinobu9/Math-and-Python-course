{
 "cells": [
  {
   "cell_type": "code",
   "execution_count": 1,
   "id": "0d775650",
   "metadata": {},
   "outputs": [],
   "source": [
    "import numpy as np\n",
    "import pandas as pd\n",
    "import matplotlib.pyplot as plt\n",
    "from scipy import linalg, interpolate, optimize, spatial\n",
    "\n",
    "%matplotlib inline"
   ]
  },
  {
   "cell_type": "markdown",
   "id": "7a9fcc2f",
   "metadata": {},
   "source": [
    "## Задание 1"
   ]
  },
  {
   "cell_type": "code",
   "execution_count": 2,
   "id": "3e822398",
   "metadata": {},
   "outputs": [],
   "source": [
    "sentences = []\n",
    "with open('sentences.txt') as file:\n",
    "    for line in file:\n",
    "        sentences.append(line.strip().lower())"
   ]
  },
  {
   "cell_type": "code",
   "execution_count": 3,
   "id": "7a06ddb5",
   "metadata": {},
   "outputs": [],
   "source": [
    "import re\n",
    "\n",
    "words = set()\n",
    "for i in range(len(sentences)):\n",
    "    sentences[i] = list(filter(len, re.split('[^a-z]', sentences[i])))\n",
    "    words.update(sentences[i])"
   ]
  },
  {
   "cell_type": "code",
   "execution_count": 4,
   "id": "195e986f",
   "metadata": {},
   "outputs": [],
   "source": [
    "words = dict(enumerate(words))"
   ]
  },
  {
   "cell_type": "code",
   "execution_count": 5,
   "id": "4eeb81cb",
   "metadata": {},
   "outputs": [],
   "source": [
    "from collections import Counter\n",
    "\n",
    "n = len(sentences)\n",
    "d = len(words)\n",
    "matrix = np.eye(n,d)\n",
    "for i in range(n):\n",
    "    c = Counter(sentences[i])\n",
    "    for j in range(d):\n",
    "        matrix[i][j] = c[words[j]]"
   ]
  },
  {
   "cell_type": "code",
   "execution_count": 6,
   "id": "21f9568f",
   "metadata": {},
   "outputs": [],
   "source": [
    "dists = []\n",
    "for i in range(n):\n",
    "    dists.append(spatial.distance.cosine(matrix[0], matrix[i]))"
   ]
  },
  {
   "cell_type": "code",
   "execution_count": 7,
   "id": "cce70d24",
   "metadata": {},
   "outputs": [],
   "source": [
    "dists.sort()"
   ]
  },
  {
   "cell_type": "code",
   "execution_count": 9,
   "id": "893ff0c1",
   "metadata": {},
   "outputs": [
    {
     "data": {
      "text/plain": [
       "(1, 2)"
      ]
     },
     "execution_count": 9,
     "metadata": {},
     "output_type": "execute_result"
    }
   ],
   "source": [
    "min1, min2 = np.inf, np.inf\n",
    "ind1, ind2 = -1, -1\n",
    "for i in range(1,n):\n",
    "    if dists[i] < min1:\n",
    "        min2, min1 = min1, dists[i]\n",
    "        ind2, ind1 = ind1, i\n",
    "    elif dists[i] < min2:\n",
    "        min2 = dists[i]\n",
    "        ind2 = i\n",
    "\n",
    "ind1, ind2        "
   ]
  },
  {
   "cell_type": "code",
   "execution_count": 10,
   "id": "dd28f76e",
   "metadata": {},
   "outputs": [],
   "source": [
    "file = open('submission1.txt', 'w', newline='')\n",
    "file.write('4 6')\n",
    "file.close()"
   ]
  },
  {
   "cell_type": "markdown",
   "id": "4ee02159",
   "metadata": {},
   "source": [
    "## Задание 2"
   ]
  },
  {
   "cell_type": "code",
   "execution_count": null,
   "id": "7d367eee",
   "metadata": {},
   "outputs": [],
   "source": [
    "import math"
   ]
  },
  {
   "cell_type": "code",
   "execution_count": 67,
   "id": "de05b19e",
   "metadata": {},
   "outputs": [],
   "source": [
    "f = lambda x: math.sin(x / 5) * math.exp(x / 10) + 5 * math.exp(-x / 2)\n",
    "x = np.arange(1,15, 0.1)\n",
    "y = list(map(f, x))"
   ]
  },
  {
   "cell_type": "code",
   "execution_count": 71,
   "id": "357158aa",
   "metadata": {},
   "outputs": [],
   "source": [
    "b = np.array([f(1), f(4), f(10), f(15)])\n",
    "x_new = np.array([1,4,10,15])"
   ]
  },
  {
   "cell_type": "code",
   "execution_count": 72,
   "id": "64a84992",
   "metadata": {},
   "outputs": [],
   "source": [
    "g = interpolate.interp1d(x_new, b, kind='cubic')"
   ]
  },
  {
   "cell_type": "code",
   "execution_count": 73,
   "id": "1f7d5964",
   "metadata": {},
   "outputs": [],
   "source": [
    "y_new = np.array(list(map(g, x)))"
   ]
  },
  {
   "cell_type": "code",
   "execution_count": 74,
   "id": "ad301f5f",
   "metadata": {},
   "outputs": [],
   "source": [
    "A = np.array([[1,1,1,1],\n",
    "              [64,16,4,1],\n",
    "              [1000,100,10,1],\n",
    "              [3375,225,15,1]])"
   ]
  },
  {
   "cell_type": "code",
   "execution_count": 75,
   "id": "197757c8",
   "metadata": {},
   "outputs": [],
   "source": [
    "w = linalg.solve(A,b)\n",
    "h = lambda x: w[0]*x**3 + w[1]*x**2 + w[2]*x + w[3]\n",
    "y_approx = list(map(h, x))"
   ]
  },
  {
   "cell_type": "code",
   "execution_count": 109,
   "id": "ff6593db",
   "metadata": {},
   "outputs": [
    {
     "data": {
      "image/png": "[encoded data removed]",
      "text/plain": [
       "<Figure size 432x288 with 1 Axes>"
      ]
     },
     "metadata": {
      "needs_background": "light"
     },
     "output_type": "display_data"
    }
   ],
   "source": [
    "plt.plot(x, y, label='original')\n",
    "plt.plot(x, y_new, 'o', label='scipy.interpolate')\n",
    "plt.plot(x, y_approx, '--', color='black', label='our approximation')\n",
    "plt.legend()\n",
    "plt.show()"
   ]
  },
  {
   "cell_type": "code",
   "execution_count": 110,
   "id": "5422379d",
   "metadata": {},
   "outputs": [],
   "source": [
    "line = ' '.join(list(map(lambda x : str(x), w[::-1])))"
   ]
  },
  {
   "cell_type": "code",
   "execution_count": 111,
   "id": "2d25a54e",
   "metadata": {},
   "outputs": [],
   "source": [
    "file = open('submission2.txt', 'w', newline='')\n",
    "file.write(line)\n",
    "file.close()"
   ]
  },
  {
   "cell_type": "code",
   "execution_count": null,
   "id": "c39eb01b",
   "metadata": {},
   "outputs": [],
   "source": []
  }
 ],
 "metadata": {
  "kernelspec": {
   "display_name": "Python 3",
   "language": "python",
   "name": "python3"
  },
  "language_info": {
   "codemirror_mode": {
    "name": "ipython",
    "version": 3
   },
   "file_extension": ".py",
   "mimetype": "text/x-python",
   "name": "python",
   "nbconvert_exporter": "python",
   "pygments_lexer": "ipython3",
   "version": "3.8.8"
  }
 },
 "nbformat": 4,
 "nbformat_minor": 5
}
