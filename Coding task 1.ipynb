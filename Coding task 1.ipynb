{
 "cells": [
  {
   "cell_type": "code",
   "execution_count": 86,
   "id": "0d775650",
   "metadata": {},
   "outputs": [],
   "source": [
    "import numpy as np\n",
    "import pandas as pd\n",
    "import matplotlib.pyplot as plt\n",
    "from scipy import linalg, interpolate, optimize, spatial\n",
    "\n",
    "%matplotlib inline"
   ]
  },
  {
   "cell_type": "markdown",
   "id": "a2fbc9fc",
   "metadata": {},
   "source": [
    "Скачайте файл с предложениями (sentences.txt).\n",
    "Каждая строка в файле соответствует одному предложению. Считайте их, приведите каждую к нижнему регистру с помощью строковой функции lower().\n",
    "Произведите токенизацию, то есть разбиение текстов на слова. Для этого можно воспользоваться регулярным выражением, которое считает разделителем любой символ, не являющийся буквой: re.split('[^a-z]', t). Не забудьте удалить пустые слова после разделения.\n",
    "Составьте список всех слов, встречающихся в предложениях. Сопоставьте каждому слову индекс от нуля до (d - 1), где d — число различных слов в предложениях. Для этого удобно воспользоваться структурой dict.\n",
    "Создайте матрицу размера n * d, где n — число предложений. Заполните ее: элемент с индексом (i, j) в этой матрице должен быть равен количеству вхождений j-го слова в i-е предложение. У вас должна получиться матрица размера 22 * 254.\n",
    "\n",
    "Найдите косинусное расстояние от предложения в самой первой строке (In comparison to dogs, cats have not undergone...) до всех остальных с помощью функции scipy.spatial.distance.cosine. Какие номера у двух предложений, ближайших к нему по этому расстоянию (строки нумеруются с нуля)? Эти два числа и будут ответами на задание. Само предложение (In comparison to dogs, cats have not undergone... ) имеет индекс 0.\n",
    "\n",
    "Запишите полученные числа в файл, разделив пробелом. Обратите внимание, что файл должен состоять из одной строки, в конце которой не должно быть переноса. Пример файла с решением вы можете найти в конце задания (submission-1.txt).\n",
    "Совпадают ли ближайшие два предложения по тематике с первым? Совпадают ли тематики у следующих по близости предложений?"
   ]
  },
  {
   "cell_type": "code",
   "execution_count": 61,
   "id": "3e822398",
   "metadata": {},
   "outputs": [],
   "source": [
    "sentences = []\n",
    "with open('sentences.txt') as file:\n",
    "    for line in file:\n",
    "        sentences.append(line.strip().lower())"
   ]
  },
  {
   "cell_type": "code",
   "execution_count": 62,
   "id": "7a06ddb5",
   "metadata": {},
   "outputs": [],
   "source": [
    "import re\n",
    "\n",
    "words = set()\n",
    "for i in range(len(sentences)):\n",
    "    sentences[i] = list(filter(len, re.split('[^a-z]', sentences[i])))\n",
    "    words.update(sentences[i])"
   ]
  },
  {
   "cell_type": "code",
   "execution_count": 65,
   "id": "195e986f",
   "metadata": {},
   "outputs": [],
   "source": [
    "words = dict(enumerate(words))"
   ]
  },
  {
   "cell_type": "code",
   "execution_count": 79,
   "id": "4eeb81cb",
   "metadata": {},
   "outputs": [],
   "source": [
    "from collections import Counter\n",
    "\n",
    "n = len(sentences)\n",
    "d = len(words)\n",
    "matrix = np.eye(n,d)\n",
    "for i in range(n):\n",
    "    c = Counter(sentences[i])\n",
    "    for j in range(d):\n",
    "        matrix[i][j] = c[words[j]]"
   ]
  },
  {
   "cell_type": "code",
   "execution_count": 93,
   "id": "21f9568f",
   "metadata": {},
   "outputs": [],
   "source": [
    "dists = []\n",
    "for i in range(n):\n",
    "    dists.append(spatial.distance.cosine(matrix[0], matrix[i]))"
   ]
  },
  {
   "cell_type": "code",
   "execution_count": 91,
   "id": "cce70d24",
   "metadata": {},
   "outputs": [],
   "source": [
    "dists.sort()"
   ]
  },
  {
   "cell_type": "code",
   "execution_count": 94,
   "id": "82f17fc2",
   "metadata": {},
   "outputs": [
    {
     "data": {
      "text/plain": [
       "[0.0,\n",
       " 0.9527544408738466,\n",
       " 0.8644738145642124,\n",
       " 0.8951715163278082,\n",
       " 0.7770887149698589,\n",
       " 0.9402385695332803,\n",
       " 0.7327387580875756,\n",
       " 0.9258750683338899,\n",
       " 0.8842724875284311,\n",
       " 0.9055088817476932,\n",
       " 0.8328165362273942,\n",
       " 0.8804771390665607,\n",
       " 0.8396432548525454,\n",
       " 0.8703592552895671,\n",
       " 0.8740118423302576,\n",
       " 0.9442721787424647,\n",
       " 0.8406361854220809,\n",
       " 0.956644501523794,\n",
       " 0.9442721787424647,\n",
       " 0.8885443574849294,\n",
       " 0.8427572744917122,\n",
       " 0.8250364469440588]"
      ]
     },
     "execution_count": 94,
     "metadata": {},
     "output_type": "execute_result"
    }
   ],
   "source": [
    "dists"
   ]
  },
  {
   "cell_type": "code",
   "execution_count": 102,
   "id": "893ff0c1",
   "metadata": {},
   "outputs": [
    {
     "data": {
      "text/plain": [
       "(6, 4)"
      ]
     },
     "execution_count": 102,
     "metadata": {},
     "output_type": "execute_result"
    }
   ],
   "source": [
    "min1, min2 = np.inf, np.inf\n",
    "ind1, ind2 = -1, -1\n",
    "for i in range(1,n):\n",
    "    if dists[i] < min1:\n",
    "        min2, min1 = min1, dists[i]\n",
    "        ind2, ind1 = ind1, i\n",
    "    elif dists[i] < min2:\n",
    "        min2 = dists[i]\n",
    "        ind2 = i\n",
    "\n",
    "ind1, ind2        "
   ]
  },
  {
   "cell_type": "code",
   "execution_count": 104,
   "id": "dd28f76e",
   "metadata": {},
   "outputs": [],
   "source": [
    "file = open('submission1.txt', 'w', newline='')\n",
    "file.write('4 6')\n",
    "file.close()"
   ]
  },
  {
   "cell_type": "code",
   "execution_count": null,
   "id": "67409c61",
   "metadata": {},
   "outputs": [],
   "source": []
  }
 ],
 "metadata": {
  "kernelspec": {
   "display_name": "Python 3",
   "language": "python",
   "name": "python3"
  },
  "language_info": {
   "codemirror_mode": {
    "name": "ipython",
    "version": 3
   },
   "file_extension": ".py",
   "mimetype": "text/x-python",
   "name": "python",
   "nbconvert_exporter": "python",
   "pygments_lexer": "ipython3",
   "version": "3.8.8"
  }
 },
 "nbformat": 4,
 "nbformat_minor": 5
}
